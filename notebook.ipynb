{
 "cells": [
  {
   "cell_type": "markdown",
   "id": "72eca8f7",
   "metadata": {},
   "source": [
    "## **Pendahuluan**\n",
    "\n",
    "Pada praktikum ini, kita akan membangun sebuah model klasifikasi gambar menggunakan TensorFlow dan Keras.\n",
    "Model ini akan digunakan untuk mengklasifikasikan gambar menjadi tiga kategori: **Rock, Paper, dan Scissors**.\n",
    "\n",
    "Agar proses pelatihan menjadi lebih efisien dan cepat, kita akan memanfaatkan teknik **Transfer Learning** dengan menggunakan model pre-trained **MobileNetV2** sebagai feature extractor.\n",
    "\n",
    "### **Dataset**\n",
    "\n",
    "Dataset yang digunakan dalam praktikum ini berasal dari Kaggle, dan dapat diunduh melalui tautan berikut:\n",
    "\n",
    "🔗 [Rock-Paper-Scissors Dataset – Kaggle](https://www.kaggle.com/datasets/drgfreeman/rockpaperscissors)\n",
    "\n",
    "Setelah mendownload dataset dan mengekstraknya, **praktikan diwajibkan** untuk menyusun struktur folder dataset menjadi seperti berikut:\n",
    "\n",
    "<pre>\n",
    "dataset/\n",
    "    rock/\n",
    "    paper/\n",
    "    scissor/\n",
    "</pre>\n",
    "\n"
   ]
  },
  {
   "cell_type": "markdown",
   "id": "54a03446",
   "metadata": {},
   "source": [
    "### **Load Dataset**\n",
    "---\n",
    "\n",
    "Kode di bawah ini digunakan untuk memuat dataset citra dari struktur folder yang telah disiapkan sebelumnya.\n",
    "\n",
    "Praktikan diminta untuk:\n",
    "\n",
    "- Menentukan **ukuran gambar** (`img_size`) sesuai dengan model yang akan digunakan (misalnya 224x224 untuk MobileNetV2).\n",
    "- Mengatur **ukuran batch** (`batch_size`) sesuai kapasitas RAM/VRAM masing-masing.\n",
    "- Mengisi nilai **`seed`** untuk memastikan bahwa hasil pembagian data bisa direproduksi kembali dengan urutan yang sama setiap kali dijalankan.\n",
    "\n",
    "Dataset akan dibagi menjadi tiga bagian:\n",
    "- **Training set**: 70%\n",
    "- **Validation set**: 15%\n",
    "- **Testing set**: 15%\n",
    "\n",
    "Proses pemuatan data dilakukan dengan menggunakan fungsi bawaan TensorFlow, yaitu `image_dataset_from_directory()`, yang akan secara otomatis membaca gambar berdasarkan nama subfoldernya sebagai label.\n",
    "\n",
    "> **Catatan:**\n",
    "> Praktikan diperbolehkan untuk **menyesuaikan sendiri persentase pembagian data** (misalnya 80% train, 10% val, 10% test) selama proporsinya tetap konsisten dan masuk akal.  \n",
    "> Praktikan juga dapat mengubah **ukuran gambar (`img_size`)** jika ingin menggunakan arsitektur model yang berbeda, serta **mengganti nilai `seed`** untuk mencoba hasil pembagian data yang berbeda.\n",
    "\n",
    "Setelah training set dan validation+test set dimuat, validation dan test akan dipisahkan secara manual berdasarkan fraksi yang telah ditentukan.\n"
   ]
  },
  {
   "cell_type": "code",
   "execution_count": 9,
   "id": "d7363874",
   "metadata": {},
   "outputs": [
    {
     "name": "stdout",
     "output_type": "stream",
     "text": [
      "Found 2188 files belonging to 3 classes.\n",
      "Using 1532 files for training.\n",
      "Found 2188 files belonging to 3 classes.\n",
      "Using 656 files for validation.\n"
     ]
    }
   ],
   "source": [
    "import tensorflow as tf\n",
    "from tensorflow.keras import layers\n",
    "import os\n",
    "\n",
    "# === PARAMETER YANG HARUS DITENTUKAN PRAKTIKAN ===\n",
    "dataset_dir = \"dataset\"          # folder utama dataset\n",
    "img_size    = (224, 224)         # ukuran gambar (standard for MobileNetV2)\n",
    "batch_size  = 32                 # ukuran batch\n",
    "seed        = 42                 # random seed untuk reproducibility\n",
    "\n",
    "# Dapatkan daftar kelas dari folder\n",
    "classes = sorted(os.listdir(dataset_dir))\n",
    "\n",
    "# === ATURAN SPLIT DATA ===\n",
    "train_frac = 0.70\n",
    "val_frac   = 0.15\n",
    "test_frac  = 0.15\n",
    "vt_frac    = val_frac + test_frac   # val + test (untuk split manual nanti)\n",
    "\n",
    "# === MEMUAT TRAIN DATASET ===\n",
    "train_ds = tf.keras.preprocessing.image_dataset_from_directory(\n",
    "    dataset_dir,\n",
    "    validation_split=vt_frac,\n",
    "    subset=\"training\",\n",
    "    seed=seed,\n",
    "    image_size=img_size,\n",
    "    batch_size=batch_size,\n",
    "    label_mode=\"categorical\",        # gunakan one-hot encoding\n",
    ")\n",
    "\n",
    "# === MEMUAT VALIDATION + TEST DATASET (gabungan) ===\n",
    "val_test_ds = tf.keras.preprocessing.image_dataset_from_directory(\n",
    "    dataset_dir,\n",
    "    validation_split=vt_frac,\n",
    "    subset=\"validation\",\n",
    "    seed=seed,\n",
    "    image_size=img_size,\n",
    "    batch_size=batch_size,\n",
    "    label_mode=\"categorical\",\n",
    ")\n",
    "\n",
    "# === SPLIT VAL DAN TEST SECARA MANUAL ===\n",
    "vt_batches  = tf.data.experimental.cardinality(val_test_ds).numpy()\n",
    "val_batches = int(vt_batches * (val_frac / vt_frac))   # hitung proporsi val dalam val+test\n",
    "\n",
    "val_ds  = val_test_ds.take(val_batches)\n",
    "test_ds = val_test_ds.skip(val_batches)\n"
   ]
  },
  {
   "cell_type": "markdown",
   "id": "8b3f393e",
   "metadata": {},
   "source": [
    "### **Preprocessing dan Augmentasi Data**\n",
    "---\n",
    "\n",
    "Sebelum gambar dapat digunakan untuk melatih model, dataset perlu melalui proses **preprocessing** terlebih dahulu. Preprocessing ini bertujuan untuk memastikan bahwa semua input gambar berada dalam skala nilai yang konsisten dan sesuai dengan ekspektasi dari model.\n",
    "\n",
    "Pada praktikum ini, preprocessing dilakukan melalui dua tahap:\n",
    "\n",
    "1. **Normalisasi**:  \n",
    "   Setiap pixel gambar yang awalnya berada pada rentang nilai **[0, 255]** diubah ke rentang **[0, 1]** dengan menggunakan layer `Rescaling(1./255)`.\n",
    "\n",
    "2. **Augmentasi** (opsional):  \n",
    "   Untuk meningkatkan variasi data dan mengurangi overfitting, dilakukan augmentasi pada **data training saja**. Augmentasi dilakukan melalui transformasi berikut:\n",
    "   - `RandomFlip(\"horizontal\")`: membalik gambar secara horizontal.\n",
    "   - `RandomRotation(0.1)`: memutar gambar secara acak hingga 10%.\n",
    "   - `RandomZoom(0.1, 0.1)`: melakukan zoom in/out hingga 10%.\n",
    "   - `RandomContrast(0.1)`: mengubah kontras gambar secara acak hingga ±10%.\n",
    "\n",
    "Semua preprocessing dan augmentasi dilakukan melalui fungsi `prep()`.  \n",
    "Fungsi ini menerima parameter `augment` untuk menentukan apakah augmentasi akan diterapkan atau tidak.  \n",
    "- Jika `augment=True`, maka data akan dinormalisasi lalu diaugmentasi.  \n",
    "- Jika `augment=False`, maka hanya normalisasi yang dilakukan (untuk validation dan test set).\n",
    "\n",
    "Setelah diproses, setiap dataset akan di-cache dan di-prefetch menggunakan `AUTOTUNE` untuk mengoptimalkan performa saat training.\n",
    "\n",
    "> **Catatan untuk praktikan:**  \n",
    "> Praktikan dapat menyesuaikan jenis dan tingkat augmentasi pada `aug_layer` untuk melihat pengaruhnya terhadap performa model. Namun, augmentasi **hanya boleh diterapkan pada training set**.\n"
   ]
  },
  {
   "cell_type": "code",
   "execution_count": 10,
   "id": "3a16769f",
   "metadata": {},
   "outputs": [],
   "source": [
    "# === PREPROCESSING DAN AUGMENTASI DATA ===\n",
    "from tensorflow.keras import layers\n",
    "\n",
    "# praktikan diminta melengkapi isi preprocessing dan augmentasi\n",
    "norm_layer = tf.keras.Sequential([\n",
    "    layers.Rescaling(1./255),  # normalisasi ke [0,1]\n",
    "])\n",
    "\n",
    "aug_layer = tf.keras.Sequential([\n",
    "    layers.RandomFlip(\"horizontal\"),    # flip kiri-kanan\n",
    "    layers.RandomRotation(0.1),         # rotasi ±10%\n",
    "    layers.RandomZoom(0.1, 0.1),        # zoom in/out sampai 10%\n",
    "    layers.RandomContrast(0.1),         # kontras +-10%\n",
    "])\n",
    "\n",
    "# fungsi untuk mempersiapkan dataset\n",
    "def prep(ds, augment=False):\n",
    "    if augment:\n",
    "        ds = ds.map(lambda x, y: (aug_layer(norm_layer(x), training=True), y),\n",
    "                    num_parallel_calls=tf.data.AUTOTUNE)\n",
    "    else:\n",
    "        ds = ds.map(lambda x, y: (norm_layer(x), y),\n",
    "                    num_parallel_calls=tf.data.AUTOTUNE)\n",
    "    \n",
    "    return ds.cache().prefetch(tf.data.AUTOTUNE)\n",
    "\n",
    "# Praktikan diminta menentukan kapan augmentasi diaktifkan\n",
    "# Augmentasi hanya diaktifkan pada training set, tidak pada validation dan test\n",
    "train_ds = prep(train_ds, augment=True)   # Augmentasi diaktifkan untuk training data\n",
    "val_ds   = prep(val_ds,   augment=False)  # Hanya normalisasi untuk validation\n",
    "test_ds  = prep(test_ds,  augment=False)  # Hanya normalisasi untuk test\n",
    "\n"
   ]
  },
  {
   "cell_type": "markdown",
   "id": "4c6a1510",
   "metadata": {},
   "source": [
    "### **Build Model dan Training**\n",
    "---\n",
    "\n",
    "Pada tahap ini, kita akan membangun arsitektur model menggunakan teknik **Transfer Learning** dengan memanfaatkan **MobileNetV2** sebagai feature extractor.\n",
    "\n",
    "Praktikan diminta untuk:\n",
    "\n",
    "- **Melengkapi input layer** (`inputs`) dengan ukuran shape gambar yang sesuai.\n",
    "- **Melengkapi output layer** (`outputs`) dengan jumlah neuron yang sama dengan jumlah kelas target (jumlah kategori pada dataset).\n",
    "\n",
    "Bagian head klasifikasi model disusun dengan struktur:\n",
    "\n",
    "- **GlobalAveragePooling2D**: Mengubah output feature map menjadi satu vektor rata-rata per channel.\n",
    "- **Dropout**: Teknik regularisasi untuk mengurangi overfitting.\n",
    "- **Dense (Softmax)**: Layer output yang mengklasifikasikan input ke dalam salah satu kelas.\n",
    "\n",
    "---\n",
    "\n",
    "### **Training Model**\n",
    "\n",
    "Sebelum memulai proses pelatihan, kita juga telah mendefinisikan dua buah callbacks:\n",
    "\n",
    "- `EarlyStopping`: Untuk menghentikan pelatihan jika validation loss tidak membaik setelah sejumlah epoch tertentu.\n",
    "- `ModelCheckpoint`: Untuk menyimpan model terbaik berdasarkan validation loss.\n",
    "\n",
    "Praktikan diminta untuk:\n",
    "\n",
    "- **Melengkapi list callbacks** di fungsi `model.fit()`, dengan menambahkan kedua callbacks yang telah dibuat sebelumnya (`early_stopping` dan `model_checkpoint`).\n",
    "- Menjalankan training selama **50 epoch** atau hingga proses berhenti otomatis karena `EarlyStopping`.\n",
    "\n",
    "> **Catatan:**  \n",
    "> Dengan menggunakan callbacks, kita dapat menghindari overfitting dan memastikan model terbaik tersimpan otomatis.\n",
    "\n"
   ]
  },
  {
   "cell_type": "code",
   "execution_count": 11,
   "id": "575df2ea",
   "metadata": {},
   "outputs": [
    {
     "name": "stdout",
     "output_type": "stream",
     "text": [
      "Epoch 1/50\n",
      "\u001b[1m48/48\u001b[0m \u001b[32m━━━━━━━━━━━━━━━━━━━━\u001b[0m\u001b[37m\u001b[0m \u001b[1m0s\u001b[0m 977ms/step - accuracy: 0.5821 - loss: 0.8690"
     ]
    },
    {
     "name": "stderr",
     "output_type": "stream",
     "text": [
      "WARNING:absl:You are saving your model as an HDF5 file via `model.save()` or `keras.saving.save_model(model)`. This file format is considered legacy. We recommend using instead the native Keras format, e.g. `model.save('my_model.keras')` or `keras.saving.save_model(model, 'my_model.keras')`. \n"
     ]
    },
    {
     "name": "stdout",
     "output_type": "stream",
     "text": [
      "\u001b[1m48/48\u001b[0m \u001b[32m━━━━━━━━━━━━━━━━━━━━\u001b[0m\u001b[37m\u001b[0m \u001b[1m67s\u001b[0m 1s/step - accuracy: 0.5858 - loss: 0.8628 - val_accuracy: 0.9625 - val_loss: 0.1647\n",
      "Epoch 2/50\n",
      "\u001b[1m48/48\u001b[0m \u001b[32m━━━━━━━━━━━━━━━━━━━━\u001b[0m\u001b[37m\u001b[0m \u001b[1m0s\u001b[0m 793ms/step - accuracy: 0.9542 - loss: 0.1878"
     ]
    },
    {
     "name": "stderr",
     "output_type": "stream",
     "text": [
      "WARNING:absl:You are saving your model as an HDF5 file via `model.save()` or `keras.saving.save_model(model)`. This file format is considered legacy. We recommend using instead the native Keras format, e.g. `model.save('my_model.keras')` or `keras.saving.save_model(model, 'my_model.keras')`. \n"
     ]
    },
    {
     "name": "stdout",
     "output_type": "stream",
     "text": [
      "\u001b[1m48/48\u001b[0m \u001b[32m━━━━━━━━━━━━━━━━━━━━\u001b[0m\u001b[37m\u001b[0m \u001b[1m47s\u001b[0m 973ms/step - accuracy: 0.9543 - loss: 0.1874 - val_accuracy: 0.9812 - val_loss: 0.0871\n",
      "Epoch 3/50\n",
      "\u001b[1m48/48\u001b[0m \u001b[32m━━━━━━━━━━━━━━━━━━━━\u001b[0m\u001b[37m\u001b[0m \u001b[1m0s\u001b[0m 801ms/step - accuracy: 0.9719 - loss: 0.1117"
     ]
    },
    {
     "name": "stderr",
     "output_type": "stream",
     "text": [
      "WARNING:absl:You are saving your model as an HDF5 file via `model.save()` or `keras.saving.save_model(model)`. This file format is considered legacy. We recommend using instead the native Keras format, e.g. `model.save('my_model.keras')` or `keras.saving.save_model(model, 'my_model.keras')`. \n"
     ]
    },
    {
     "name": "stdout",
     "output_type": "stream",
     "text": [
      "\u001b[1m48/48\u001b[0m \u001b[32m━━━━━━━━━━━━━━━━━━━━\u001b[0m\u001b[37m\u001b[0m \u001b[1m47s\u001b[0m 987ms/step - accuracy: 0.9718 - loss: 0.1117 - val_accuracy: 0.9844 - val_loss: 0.0606\n",
      "Epoch 4/50\n",
      "\u001b[1m48/48\u001b[0m \u001b[32m━━━━━━━━━━━━━━━━━━━━\u001b[0m\u001b[37m\u001b[0m \u001b[1m0s\u001b[0m 799ms/step - accuracy: 0.9881 - loss: 0.0725"
     ]
    },
    {
     "name": "stderr",
     "output_type": "stream",
     "text": [
      "WARNING:absl:You are saving your model as an HDF5 file via `model.save()` or `keras.saving.save_model(model)`. This file format is considered legacy. We recommend using instead the native Keras format, e.g. `model.save('my_model.keras')` or `keras.saving.save_model(model, 'my_model.keras')`. \n"
     ]
    },
    {
     "name": "stdout",
     "output_type": "stream",
     "text": [
      "\u001b[1m48/48\u001b[0m \u001b[32m━━━━━━━━━━━━━━━━━━━━\u001b[0m\u001b[37m\u001b[0m \u001b[1m46s\u001b[0m 971ms/step - accuracy: 0.9880 - loss: 0.0726 - val_accuracy: 0.9875 - val_loss: 0.0497\n",
      "Epoch 5/50\n",
      "\u001b[1m48/48\u001b[0m \u001b[32m━━━━━━━━━━━━━━━━━━━━\u001b[0m\u001b[37m\u001b[0m \u001b[1m0s\u001b[0m 779ms/step - accuracy: 0.9858 - loss: 0.0616"
     ]
    },
    {
     "name": "stderr",
     "output_type": "stream",
     "text": [
      "WARNING:absl:You are saving your model as an HDF5 file via `model.save()` or `keras.saving.save_model(model)`. This file format is considered legacy. We recommend using instead the native Keras format, e.g. `model.save('my_model.keras')` or `keras.saving.save_model(model, 'my_model.keras')`. \n"
     ]
    },
    {
     "name": "stdout",
     "output_type": "stream",
     "text": [
      "\u001b[1m48/48\u001b[0m \u001b[32m━━━━━━━━━━━━━━━━━━━━\u001b[0m\u001b[37m\u001b[0m \u001b[1m46s\u001b[0m 954ms/step - accuracy: 0.9858 - loss: 0.0616 - val_accuracy: 0.9875 - val_loss: 0.0434\n",
      "Epoch 6/50\n",
      "\u001b[1m48/48\u001b[0m \u001b[32m━━━━━━━━━━━━━━━━━━━━\u001b[0m\u001b[37m\u001b[0m \u001b[1m0s\u001b[0m 783ms/step - accuracy: 0.9913 - loss: 0.0508"
     ]
    },
    {
     "name": "stderr",
     "output_type": "stream",
     "text": [
      "WARNING:absl:You are saving your model as an HDF5 file via `model.save()` or `keras.saving.save_model(model)`. This file format is considered legacy. We recommend using instead the native Keras format, e.g. `model.save('my_model.keras')` or `keras.saving.save_model(model, 'my_model.keras')`. \n"
     ]
    },
    {
     "name": "stdout",
     "output_type": "stream",
     "text": [
      "\u001b[1m48/48\u001b[0m \u001b[32m━━━━━━━━━━━━━━━━━━━━\u001b[0m\u001b[37m\u001b[0m \u001b[1m46s\u001b[0m 956ms/step - accuracy: 0.9912 - loss: 0.0508 - val_accuracy: 0.9875 - val_loss: 0.0366\n",
      "Epoch 7/50\n",
      "\u001b[1m48/48\u001b[0m \u001b[32m━━━━━━━━━━━━━━━━━━━━\u001b[0m\u001b[37m\u001b[0m \u001b[1m0s\u001b[0m 809ms/step - accuracy: 0.9889 - loss: 0.0426"
     ]
    },
    {
     "name": "stderr",
     "output_type": "stream",
     "text": [
      "WARNING:absl:You are saving your model as an HDF5 file via `model.save()` or `keras.saving.save_model(model)`. This file format is considered legacy. We recommend using instead the native Keras format, e.g. `model.save('my_model.keras')` or `keras.saving.save_model(model, 'my_model.keras')`. \n"
     ]
    },
    {
     "name": "stdout",
     "output_type": "stream",
     "text": [
      "\u001b[1m48/48\u001b[0m \u001b[32m━━━━━━━━━━━━━━━━━━━━\u001b[0m\u001b[37m\u001b[0m \u001b[1m47s\u001b[0m 979ms/step - accuracy: 0.9890 - loss: 0.0426 - val_accuracy: 0.9875 - val_loss: 0.0348\n",
      "Epoch 8/50\n",
      "\u001b[1m48/48\u001b[0m \u001b[32m━━━━━━━━━━━━━━━━━━━━\u001b[0m\u001b[37m\u001b[0m \u001b[1m0s\u001b[0m 786ms/step - accuracy: 0.9948 - loss: 0.0372"
     ]
    },
    {
     "name": "stderr",
     "output_type": "stream",
     "text": [
      "WARNING:absl:You are saving your model as an HDF5 file via `model.save()` or `keras.saving.save_model(model)`. This file format is considered legacy. We recommend using instead the native Keras format, e.g. `model.save('my_model.keras')` or `keras.saving.save_model(model, 'my_model.keras')`. \n"
     ]
    },
    {
     "name": "stdout",
     "output_type": "stream",
     "text": [
      "\u001b[1m48/48\u001b[0m \u001b[32m━━━━━━━━━━━━━━━━━━━━\u001b[0m\u001b[37m\u001b[0m \u001b[1m46s\u001b[0m 956ms/step - accuracy: 0.9947 - loss: 0.0372 - val_accuracy: 0.9875 - val_loss: 0.0315\n",
      "Epoch 9/50\n",
      "\u001b[1m48/48\u001b[0m \u001b[32m━━━━━━━━━━━━━━━━━━━━\u001b[0m\u001b[37m\u001b[0m \u001b[1m0s\u001b[0m 796ms/step - accuracy: 0.9969 - loss: 0.0303"
     ]
    },
    {
     "name": "stderr",
     "output_type": "stream",
     "text": [
      "WARNING:absl:You are saving your model as an HDF5 file via `model.save()` or `keras.saving.save_model(model)`. This file format is considered legacy. We recommend using instead the native Keras format, e.g. `model.save('my_model.keras')` or `keras.saving.save_model(model, 'my_model.keras')`. \n"
     ]
    },
    {
     "name": "stdout",
     "output_type": "stream",
     "text": [
      "\u001b[1m48/48\u001b[0m \u001b[32m━━━━━━━━━━━━━━━━━━━━\u001b[0m\u001b[37m\u001b[0m \u001b[1m46s\u001b[0m 963ms/step - accuracy: 0.9969 - loss: 0.0304 - val_accuracy: 0.9906 - val_loss: 0.0261\n",
      "Epoch 10/50\n",
      "\u001b[1m48/48\u001b[0m \u001b[32m━━━━━━━━━━━━━━━━━━━━\u001b[0m\u001b[37m\u001b[0m \u001b[1m45s\u001b[0m 937ms/step - accuracy: 0.9970 - loss: 0.0241 - val_accuracy: 0.9875 - val_loss: 0.0264\n",
      "Epoch 11/50\n",
      "\u001b[1m48/48\u001b[0m \u001b[32m━━━━━━━━━━━━━━━━━━━━\u001b[0m\u001b[37m\u001b[0m \u001b[1m0s\u001b[0m 774ms/step - accuracy: 0.9994 - loss: 0.0208"
     ]
    },
    {
     "name": "stderr",
     "output_type": "stream",
     "text": [
      "WARNING:absl:You are saving your model as an HDF5 file via `model.save()` or `keras.saving.save_model(model)`. This file format is considered legacy. We recommend using instead the native Keras format, e.g. `model.save('my_model.keras')` or `keras.saving.save_model(model, 'my_model.keras')`. \n"
     ]
    },
    {
     "name": "stdout",
     "output_type": "stream",
     "text": [
      "\u001b[1m48/48\u001b[0m \u001b[32m━━━━━━━━━━━━━━━━━━━━\u001b[0m\u001b[37m\u001b[0m \u001b[1m45s\u001b[0m 944ms/step - accuracy: 0.9994 - loss: 0.0209 - val_accuracy: 0.9875 - val_loss: 0.0250\n",
      "Epoch 12/50\n",
      "\u001b[1m48/48\u001b[0m \u001b[32m━━━━━━━━━━━━━━━━━━━━\u001b[0m\u001b[37m\u001b[0m \u001b[1m0s\u001b[0m 761ms/step - accuracy: 0.9974 - loss: 0.0199"
     ]
    },
    {
     "name": "stderr",
     "output_type": "stream",
     "text": [
      "WARNING:absl:You are saving your model as an HDF5 file via `model.save()` or `keras.saving.save_model(model)`. This file format is considered legacy. We recommend using instead the native Keras format, e.g. `model.save('my_model.keras')` or `keras.saving.save_model(model, 'my_model.keras')`. \n"
     ]
    },
    {
     "name": "stdout",
     "output_type": "stream",
     "text": [
      "\u001b[1m48/48\u001b[0m \u001b[32m━━━━━━━━━━━━━━━━━━━━\u001b[0m\u001b[37m\u001b[0m \u001b[1m45s\u001b[0m 934ms/step - accuracy: 0.9974 - loss: 0.0199 - val_accuracy: 0.9906 - val_loss: 0.0225\n",
      "Epoch 13/50\n",
      "\u001b[1m48/48\u001b[0m \u001b[32m━━━━━━━━━━━━━━━━━━━━\u001b[0m\u001b[37m\u001b[0m \u001b[1m45s\u001b[0m 948ms/step - accuracy: 0.9980 - loss: 0.0189 - val_accuracy: 0.9906 - val_loss: 0.0238\n",
      "Epoch 14/50\n",
      "\u001b[1m48/48\u001b[0m \u001b[32m━━━━━━━━━━━━━━━━━━━━\u001b[0m\u001b[37m\u001b[0m \u001b[1m0s\u001b[0m 769ms/step - accuracy: 0.9961 - loss: 0.0183"
     ]
    },
    {
     "name": "stderr",
     "output_type": "stream",
     "text": [
      "WARNING:absl:You are saving your model as an HDF5 file via `model.save()` or `keras.saving.save_model(model)`. This file format is considered legacy. We recommend using instead the native Keras format, e.g. `model.save('my_model.keras')` or `keras.saving.save_model(model, 'my_model.keras')`. \n"
     ]
    },
    {
     "name": "stdout",
     "output_type": "stream",
     "text": [
      "\u001b[1m48/48\u001b[0m \u001b[32m━━━━━━━━━━━━━━━━━━━━\u001b[0m\u001b[37m\u001b[0m \u001b[1m45s\u001b[0m 937ms/step - accuracy: 0.9961 - loss: 0.0183 - val_accuracy: 0.9906 - val_loss: 0.0211\n",
      "Epoch 15/50\n",
      "\u001b[1m48/48\u001b[0m \u001b[32m━━━━━━━━━━━━━━━━━━━━\u001b[0m\u001b[37m\u001b[0m \u001b[1m0s\u001b[0m 761ms/step - accuracy: 0.9989 - loss: 0.0140"
     ]
    },
    {
     "name": "stderr",
     "output_type": "stream",
     "text": [
      "WARNING:absl:You are saving your model as an HDF5 file via `model.save()` or `keras.saving.save_model(model)`. This file format is considered legacy. We recommend using instead the native Keras format, e.g. `model.save('my_model.keras')` or `keras.saving.save_model(model, 'my_model.keras')`. \n"
     ]
    },
    {
     "name": "stdout",
     "output_type": "stream",
     "text": [
      "\u001b[1m48/48\u001b[0m \u001b[32m━━━━━━━━━━━━━━━━━━━━\u001b[0m\u001b[37m\u001b[0m \u001b[1m44s\u001b[0m 929ms/step - accuracy: 0.9989 - loss: 0.0140 - val_accuracy: 0.9906 - val_loss: 0.0193\n",
      "Epoch 16/50\n",
      "\u001b[1m48/48\u001b[0m \u001b[32m━━━━━━━━━━━━━━━━━━━━\u001b[0m\u001b[37m\u001b[0m \u001b[1m45s\u001b[0m 936ms/step - accuracy: 0.9982 - loss: 0.0158 - val_accuracy: 0.9906 - val_loss: 0.0200\n",
      "Epoch 17/50\n",
      "\u001b[1m48/48\u001b[0m \u001b[32m━━━━━━━━━━━━━━━━━━━━\u001b[0m\u001b[37m\u001b[0m \u001b[1m0s\u001b[0m 776ms/step - accuracy: 0.9984 - loss: 0.0148"
     ]
    },
    {
     "name": "stderr",
     "output_type": "stream",
     "text": [
      "WARNING:absl:You are saving your model as an HDF5 file via `model.save()` or `keras.saving.save_model(model)`. This file format is considered legacy. We recommend using instead the native Keras format, e.g. `model.save('my_model.keras')` or `keras.saving.save_model(model, 'my_model.keras')`. \n"
     ]
    },
    {
     "name": "stdout",
     "output_type": "stream",
     "text": [
      "\u001b[1m48/48\u001b[0m \u001b[32m━━━━━━━━━━━━━━━━━━━━\u001b[0m\u001b[37m\u001b[0m \u001b[1m45s\u001b[0m 942ms/step - accuracy: 0.9984 - loss: 0.0148 - val_accuracy: 0.9937 - val_loss: 0.0174\n",
      "Epoch 18/50\n",
      "\u001b[1m48/48\u001b[0m \u001b[32m━━━━━━━━━━━━━━━━━━━━\u001b[0m\u001b[37m\u001b[0m \u001b[1m46s\u001b[0m 957ms/step - accuracy: 0.9987 - loss: 0.0116 - val_accuracy: 0.9906 - val_loss: 0.0209\n",
      "Epoch 19/50\n",
      "\u001b[1m48/48\u001b[0m \u001b[32m━━━━━━━━━━━━━━━━━━━━\u001b[0m\u001b[37m\u001b[0m \u001b[1m45s\u001b[0m 932ms/step - accuracy: 0.9961 - loss: 0.0149 - val_accuracy: 0.9906 - val_loss: 0.0191\n",
      "Epoch 20/50\n",
      "\u001b[1m48/48\u001b[0m \u001b[32m━━━━━━━━━━━━━━━━━━━━\u001b[0m\u001b[37m\u001b[0m \u001b[1m45s\u001b[0m 935ms/step - accuracy: 0.9996 - loss: 0.0111 - val_accuracy: 0.9906 - val_loss: 0.0189\n"
     ]
    }
   ],
   "source": [
    "import tensorflow as tf\n",
    "from tensorflow.keras import layers, models, callbacks\n",
    "from tensorflow.keras.applications import MobileNetV2\n",
    "\n",
    "# Load pre-trained base\n",
    "base_model = MobileNetV2(\n",
    "    input_shape=(*img_size, 3),\n",
    "    include_top=False,\n",
    "    weights=\"imagenet\"\n",
    ")\n",
    "base_model.trainable = False\n",
    "\n",
    "# Tambahkan head klasifikasi baru\n",
    "# Praktikan diminta melengkapi bagian input dan output di bawah ini\n",
    "# Lengkapi bagian yang kosong dengan menyusun arsitektur head klasifikasi\n",
    "inputs = tf.keras.Input(shape=(*img_size, 3))    # Tentukan input shape\n",
    "x = base_model(inputs, training=False)\n",
    "x = layers.GlobalAveragePooling2D()(x)\n",
    "x = layers.Dropout(0.2)(x)\n",
    "outputs = layers.Dense(len(classes), activation=\"softmax\")(x)  # Tentukan jumlah output classes\n",
    "model = models.Model(inputs, outputs)\n",
    "\n",
    "# Compile model\n",
    "model.compile(\n",
    "    optimizer  = \"adam\",\n",
    "    loss       = \"categorical_crossentropy\",\n",
    "    metrics    = [\"accuracy\"]\n",
    ")\n",
    "\n",
    "# Callbacks\n",
    "early_stopping = callbacks.EarlyStopping(\n",
    "    monitor    = \"val_loss\",\n",
    "    patience   = 3,\n",
    "    restore_best_weights=True\n",
    ")\n",
    "model_checkpoint = callbacks.ModelCheckpoint(\n",
    "    \"model/best_transfer.h5\",\n",
    "    monitor=\"val_loss\",\n",
    "    save_best_only=True\n",
    ")\n",
    "\n",
    "# Training model\n",
    "# Praktikan diminta melengkapi callbacks yang digunakan\n",
    "history = model.fit(\n",
    "    train_ds,\n",
    "    validation_data=val_ds,\n",
    "    epochs=50,\n",
    "    callbacks=[early_stopping, model_checkpoint]    # Lengkapi dengan callbacks yang telah dibuat\n",
    ")\n"
   ]
  },
  {
   "cell_type": "markdown",
   "id": "957bf440",
   "metadata": {},
   "source": [
    "### **Evaluasi Model**\n",
    "---\n",
    "\n",
    "Setelah model selesai dilatih, langkah berikutnya adalah mengevaluasi performanya pada **test set**.\n",
    "\n",
    "Evaluasi dilakukan menggunakan dua pendekatan utama:\n",
    "\n",
    "1. **Classification Report**  \n",
    "   Menampilkan metrik klasifikasi seperti:\n",
    "   - **Precision**: Seberapa akurat model saat membuat prediksi positif.\n",
    "   - **Recall**: Seberapa baik model menangkap semua sampel positif.\n",
    "   - **F1-Score**: Harmoni antara precision dan recall.\n",
    "   - **Accuracy**: Persentase prediksi yang benar dari semua prediksi.\n",
    "\n",
    "2. **Confusion Matrix**  \n",
    "   Menunjukkan jumlah prediksi benar dan salah untuk masing-masing kelas, dalam bentuk tabel.  \n",
    "   Dengan confusion matrix, kita bisa melihat pola kesalahan model (misal, apakah model sering salah membedakan \"rock\" dengan \"paper\", dll).\n",
    "\n",
    "---\n",
    "\n",
    "#### Langkah-langkah yang dilakukan pada kode:\n",
    "\n",
    "- Menggunakan model untuk melakukan prediksi pada seluruh test dataset.\n",
    "- Membandingkan hasil prediksi dengan label asli.\n",
    "- Menampilkan classification report menggunakan `classification_report` dari scikit-learn.\n",
    "- Menghitung dan memvisualisasikan confusion matrix menggunakan `ConfusionMatrixDisplay`.\n",
    "\n",
    "> **Catatan untuk praktikan:**  \n",
    "> Perhatikan nilai **precision**, **recall**, dan **f1-score** dari masing-masing kelas.  \n",
    "> Jika terdapat ketidakseimbangan performa antar kelas, analisis kemungkinan penyebabnya (misalnya karena jumlah data tidak seimbang, kesamaan visual antar kelas, dsb).\n"
   ]
  },
  {
   "cell_type": "code",
   "execution_count": 12,
   "id": "b89597f1",
   "metadata": {},
   "outputs": [
    {
     "name": "stdout",
     "output_type": "stream",
     "text": [
      "\u001b[1m11/11\u001b[0m \u001b[32m━━━━━━━━━━━━━━━━━━━━\u001b[0m\u001b[37m\u001b[0m \u001b[1m13s\u001b[0m 891ms/step\n",
      "=== Classification Report ===\n",
      "              precision    recall  f1-score   support\n",
      "\n",
      "       paper     0.9882    0.9655    0.9767        87\n",
      "        rock     0.9919    0.9919    0.9919       124\n",
      "    scissors     0.9764    0.9920    0.9841       125\n",
      "\n",
      "    accuracy                         0.9851       336\n",
      "   macro avg     0.9855    0.9832    0.9843       336\n",
      "weighted avg     0.9852    0.9851    0.9851       336\n",
      "\n"
     ]
    },
    {
     "data": {
      "image/png": "[encoded data removed]",
      "text/plain": [
       "<Figure size 600x600 with 1 Axes>"
      ]
     },
     "metadata": {},
     "output_type": "display_data"
    },
    {
     "name": "stdout",
     "output_type": "stream",
     "text": [
      "Model training completed and saved as 'best_transfer.h5'\n",
      "This model can be used with FastAPI or Streamlit for developing a classification app.\n"
     ]
    }
   ],
   "source": [
    "import numpy as np\n",
    "import matplotlib.pyplot as plt\n",
    "from sklearn.metrics import (\n",
    "    classification_report,\n",
    "    confusion_matrix,\n",
    "    ConfusionMatrixDisplay\n",
    ")\n",
    "\n",
    "# dapatkan prediksi probabilitas dan label dari test set\n",
    "y_pred_probs = model.predict(test_ds)               # shape = (N, num_classes)\n",
    "y_pred = np.argmax(y_pred_probs, axis=1)             # ambil indeks prediksi tertinggi (shape: (N,))\n",
    "\n",
    "# ekstrak label asli dari test_ds\n",
    "# Karena test_ds bertipe (x_batch, y_batch) dengan label one-hot, kita ambil argmax dari y_batch\n",
    "y_true = np.concatenate([\n",
    "    np.argmax(y.numpy(), axis=1)\n",
    "    for _, y in test_ds\n",
    "], axis=0)\n",
    "\n",
    "# tampilkan classification report\n",
    "print(\"=== Classification Report ===\")\n",
    "print(classification_report(\n",
    "    y_true,\n",
    "    y_pred,\n",
    "    target_names=classes,\n",
    "    digits=4\n",
    "))\n",
    "\n",
    "# hitung dan tampilkan confusion matrix\n",
    "cm = confusion_matrix(y_true, y_pred)\n",
    "disp = ConfusionMatrixDisplay(confusion_matrix=cm, display_labels=classes)\n",
    "\n",
    "fig, ax = plt.subplots(figsize=(6,6))\n",
    "disp.plot(ax=ax, cmap=plt.cm.Blues, colorbar=False)\n",
    "plt.title(\"Confusion Matrix\")\n",
    "plt.xticks(rotation=45, ha=\"right\")\n",
    "plt.tight_layout()\n",
    "plt.show()\n",
    "\n",
    "print(\"Model training completed and saved as 'best_transfer.h5'\")\n",
    "print(\"This model can be used with FastAPI or Streamlit for developing a classification app.\")"
   ]
  },
  {
   "cell_type": "markdown",
   "id": "31e376bd",
   "metadata": {},
   "source": [
    "Setelah proses pelatihan selesai, model yang telah dilatih akan secara otomatis disimpan oleh callback `ModelCheckpoint` ke dalam file `.h5`.\n",
    "\n",
    "Model ini dapat langsung digunakan dalam pengembangan aplikasi backend yang menggunakan **FastAPI** atau frontend berbasis **Streamlit**, untuk membuat aplikasi klasifikasi gambar."
   ]
  }
 ],
 "metadata": {
  "kernelspec": {
   "display_name": "venv",
   "language": "python",
   "name": "python3"
  },
  "language_info": {
   "codemirror_mode": {
    "name": "ipython",
    "version": 3
   },
   "file_extension": ".py",
   "mimetype": "text/x-python",
   "name": "python",
   "nbconvert_exporter": "python",
   "pygments_lexer": "ipython3",
   "version": "3.11.9"
  }
 },
 "nbformat": 4,
 "nbformat_minor": 5
}
